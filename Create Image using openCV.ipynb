{
 "cells": [
  {
   "cell_type": "code",
   "execution_count": 206,
   "id": "0a9e1075",
   "metadata": {},
   "outputs": [],
   "source": [
    "import numpy as np\n",
    "import cv2\n",
    "import matplotlib.pyplot as plt"
   ]
  },
  {
   "cell_type": "code",
   "execution_count": 207,
   "id": "b7b0711f",
   "metadata": {},
   "outputs": [],
   "source": [
    "photo = np.zeros((1000,800,3)) #This Line create the black image\n",
    "cv2.imshow(\"Photo\", photo)\n",
    "cv2.waitKey()\n",
    "cv2.destroyAllWindows()"
   ]
  },
  {
   "cell_type": "code",
   "execution_count": 208,
   "id": "82a0ea2f",
   "metadata": {},
   "outputs": [],
   "source": [
    "photo = cv2.line(photo, (400, 450), (400, 900), (186, 140, 99 ), 100) #Here the candystick created\n",
    "cv2.imshow(\"Photo\", photo)\n",
    "cv2.waitKey()\n",
    "cv2.destroyAllWindows()"
   ]
  },
  {
   "cell_type": "code",
   "execution_count": 209,
   "id": "44682727",
   "metadata": {},
   "outputs": [
    {
     "name": "stderr",
     "output_type": "stream",
     "text": [
      "Clipping input data to the valid range for imshow with RGB data ([0..1] for floats or [0..255] for integers).\n"
     ]
    },
    {
     "data": {
      "text/plain": [
       "<matplotlib.image.AxesImage at 0x1af9d178310>"
      ]
     },
     "execution_count": 209,
     "metadata": {},
     "output_type": "execute_result"
    },
    {
     "data": {
      "image/png": "[encoded data removed]",
      "text/plain": [
       "<Figure size 432x288 with 1 Axes>"
      ]
     },
     "metadata": {
      "needs_background": "light"
     },
     "output_type": "display_data"
    }
   ],
   "source": [
    "plt.imshow(photo)"
   ]
  },
  {
   "cell_type": "code",
   "execution_count": 210,
   "id": "b1b42491",
   "metadata": {},
   "outputs": [],
   "source": [
    "photo = cv2.circle(photo, (400, 250), 250, (0, 0, 255), -1) #RED Circle Created\n",
    "cv2.imshow(\"Photo\", photo)\n",
    "cv2.waitKey()\n",
    "cv2.destroyAllWindows()\n",
    "#plt.imshow(photo)"
   ]
  },
  {
   "cell_type": "code",
   "execution_count": null,
   "id": "cc7900ca",
   "metadata": {},
   "outputs": [],
   "source": []
  },
  {
   "cell_type": "code",
   "execution_count": 211,
   "id": "9516abe1",
   "metadata": {},
   "outputs": [],
   "source": [
    "photo = cv2.circle(photo, (400, 250), 200, (255, 0, 0), -2) #Blue Circle over the RED is Created\n",
    "cv2.imshow(\"Photo\", photo)\n",
    "cv2.waitKey()\n",
    "cv2.destroyAllWindows()"
   ]
  },
  {
   "cell_type": "code",
   "execution_count": 212,
   "id": "fc6280cb",
   "metadata": {},
   "outputs": [],
   "source": [
    "#plt.imshow(photo)"
   ]
  },
  {
   "cell_type": "code",
   "execution_count": 213,
   "id": "c437c642",
   "metadata": {},
   "outputs": [],
   "source": [
    "photo = cv2.circle(photo, (400, 250), 145, (0, 255, 0), -2) #Green over the Blue is Created\n",
    "cv2.imshow(\"Photo\", photo)\n",
    "cv2.waitKey()\n",
    "cv2.destroyAllWindows()"
   ]
  },
  {
   "cell_type": "code",
   "execution_count": 214,
   "id": "f7871f68",
   "metadata": {},
   "outputs": [],
   "source": [
    "#plt.imshow(photo)"
   ]
  },
  {
   "cell_type": "code",
   "execution_count": 215,
   "id": "2ed968eb",
   "metadata": {},
   "outputs": [],
   "source": [
    "fphoto = cv2.circle(photo, (400, 250), 100, (0, 0, 255), -2) #Red over the Green is Created\n",
    "cv2.imshow(\"Photo\", photo)\n",
    "cv2.waitKey()\n",
    "cv2.destroyAllWindows()"
   ]
  },
  {
   "cell_type": "code",
   "execution_count": 216,
   "id": "e65d9477",
   "metadata": {},
   "outputs": [],
   "source": [
    "#plt.imshow(photo)"
   ]
  },
  {
   "cell_type": "code",
   "execution_count": 217,
   "id": "df8cd980",
   "metadata": {},
   "outputs": [],
   "source": [
    "cv2.imshow(\"Photo\", fphoto)\n",
    "cv2.waitKey()\n",
    "cv2.destroyAllWindows()"
   ]
  },
  {
   "cell_type": "code",
   "execution_count": 218,
   "id": "28fb86de",
   "metadata": {},
   "outputs": [],
   "source": [
    "#Thanks For Watching!!"
   ]
  },
  {
   "cell_type": "code",
   "execution_count": 219,
   "id": "c8785eae",
   "metadata": {},
   "outputs": [
    {
     "data": {
      "text/plain": [
       "True"
      ]
     },
     "execution_count": 219,
     "metadata": {},
     "output_type": "execute_result"
    }
   ],
   "source": [
    "cv2.imwrite(\"image.jpg\",fphoto) #Exporrting the image"
   ]
  },
  {
   "cell_type": "code",
   "execution_count": null,
   "id": "5ed5d7a1",
   "metadata": {},
   "outputs": [],
   "source": []
  }
 ],
 "metadata": {
  "kernelspec": {
   "display_name": "Python 3",
   "language": "python",
   "name": "python3"
  },
  "language_info": {
   "codemirror_mode": {
    "name": "ipython",
    "version": 3
   },
   "file_extension": ".py",
   "mimetype": "text/x-python",
   "name": "python",
   "nbconvert_exporter": "python",
   "pygments_lexer": "ipython3",
   "version": "3.8.8"
  }
 },
 "nbformat": 4,
 "nbformat_minor": 5
}
